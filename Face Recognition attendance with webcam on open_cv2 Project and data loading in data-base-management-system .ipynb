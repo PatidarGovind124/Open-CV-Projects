{
 "cells": [
  {
   "cell_type": "code",
   "execution_count": 1,
   "id": "fde4df9a",
   "metadata": {},
   "outputs": [],
   "source": [
    "import cv2\n",
    "import face_recognition\n",
    "import numpy as np\n",
    "import os\n",
    "from datetime import datetime\n",
    "import pandas as pd\n",
    "import time \n",
    "import datetime\n",
    "import mysql.connector"
   ]
  },
  {
   "cell_type": "code",
   "execution_count": 2,
   "id": "5d7c5729",
   "metadata": {},
   "outputs": [],
   "source": [
    "# load the images in path our system \n",
    "Govind1_img = face_recognition.load_image_file(\"C:\\\\Users\\\\Govind\\\\Pictures\\\\Screenshots\\\\Govind -Patidar Regex.jpg\")\n",
    "Govind2_img = face_recognition.load_image_file(\"C:\\\\Users\\\\Govind\\\\Pictures\\\\Screenshots\\\\Govind - Patel.jpg\")\n",
    "#ramgopal_img = face_recognition.load_image_file(\"C:\\Users\\Govind\\Pictures\\Screenshots\\Ram Gopal Regex.jpg\")\n",
    "\n",
    "# encode the faces in our system\n",
    "Govind_encoding_1 = face_recognition.face_encodings(Govind1_img)[0]\n",
    "Govind_encoding_2 = face_recognition.face_encodings(Govind2_img)[0]\n"
   ]
  },
  {
   "cell_type": "code",
   "execution_count": 3,
   "id": "60c949bb",
   "metadata": {},
   "outputs": [],
   "source": [
    "# define known face encodings and names\n",
    "image_face_encodings = [Govind_encoding_1, Govind_encoding_2]\n",
    "image_face_names = [\"Govind_Patel\", \"Govind_Patidar\"]"
   ]
  },
  {
   "cell_type": "code",
   "execution_count": 4,
   "id": "d82ced5c",
   "metadata": {},
   "outputs": [],
   "source": [
    "\n",
    "\n",
    "employees = set(image_face_names)\n",
    "\n",
    "cap = cv2.VideoCapture(0)\n",
    "\n",
    "while True:\n",
    "    _, frame = cap.read()\n",
    "    small_frame = cv2.resize(frame, (0, 0), fx=0.25, fy=0.25)\n",
    "    rgb_small_frame = small_frame[:, :, ::-1]\n",
    "\n",
    "    face_locations = face_recognition.face_locations(rgb_small_frame)\n",
    "    face_encodings = face_recognition.face_encodings(rgb_small_frame, face_locations)\n",
    "    face_names = []\n",
    "\n",
    "    for face_encoding in face_encodings:\n",
    "        matches = face_recognition.compare_faces(image_face_encodings, face_encoding)\n",
    "        name = \"GOVIND-PATEL-PATIDAR\"\n",
    "        face_distances = face_recognition.face_distance(image_face_encodings, face_encoding)\n",
    "        best_match_index = np.argmin(face_distances)\n",
    "        \n",
    "        if matches[best_match_index]:\n",
    "            name = image_face_names[best_match_index]\n",
    "            \n",
    "        face_names.append(name)\n",
    "        \n",
    "        if name in employees:\n",
    "            employees.remove(name)\n",
    "\n",
    "    \n",
    "    # show  the recognized names on the images  frames\n",
    "    for (top, right, bottom, left), name in zip(face_locations, face_names):\n",
    "            top *= 4\n",
    "            right *= 4\n",
    "            bottom *= 4\n",
    "            left *= 4\n",
    "            cv2.rectangle(frame, (left, top), (right, bottom), (0, 255, 0), 2)  # Change color to green\n",
    "            cv2.putText(frame, name, (left + 6, bottom - 6), cv2.FONT_HERSHEY_SIMPLEX, 0.5, (255, 255, 255), 1)\n",
    "\n",
    "            cv2.imshow(\" Face-Recognition-Attendance-System\", frame)\n",
    "    \n",
    "    \n",
    "    \n",
    "    if cv2.waitKey(1) & 0xFF == ord(\"G\"):\n",
    "        break\n",
    "\n",
    "cap.release()\n",
    "cv2.destroyAllWindows()\n"
   ]
  },
  {
   "cell_type": "code",
   "execution_count": 5,
   "id": "b4389782",
   "metadata": {},
   "outputs": [],
   "source": [
    "connector=mysql.connector.connect(host=\"localhost\",user=\"root\",password='7414846265@GO',database=\"webcam_data\")\n",
    "cursor=connector.cursor()\n",
    "query=\"insert into emp_attendance  values('{}',now())\".format(name)\n",
    "cursor.execute(query)\n",
    "\n",
    "\n",
    "query=\"select * from emp_attendance\"\n",
    "cursor.execute(query)\n",
    "data=cursor.fetchall()\n",
    "\n",
    "query=\"commit\"\n",
    "cursor.execute(query)\n"
   ]
  },
  {
   "cell_type": "code",
   "execution_count": null,
   "id": "2896873c",
   "metadata": {},
   "outputs": [],
   "source": []
  },
  {
   "cell_type": "code",
   "execution_count": null,
   "id": "eabaf4e5",
   "metadata": {},
   "outputs": [],
   "source": []
  }
 ],
 "metadata": {
  "kernelspec": {
   "display_name": "Python 3 (ipykernel)",
   "language": "python",
   "name": "python3"
  },
  "language_info": {
   "codemirror_mode": {
    "name": "ipython",
    "version": 3
   },
   "file_extension": ".py",
   "mimetype": "text/x-python",
   "name": "python",
   "nbconvert_exporter": "python",
   "pygments_lexer": "ipython3",
   "version": "3.10.9"
  }
 },
 "nbformat": 4,
 "nbformat_minor": 5
}
